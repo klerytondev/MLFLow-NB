{
 "cells": [
  {
   "cell_type": "code",
   "execution_count": null,
   "metadata": {},
   "outputs": [],
   "source": [
    "import pandas as pd\n",
    "from sklearn.model_selection import train_test_split\n",
    "from sklearn.naive_bayes import GaussianNB\n",
    "from sklearn.metrics import (accuracy_score, recall_score, precision_score, \n",
    "                            f1_score, roc_auc_score, log_loss, confusion_matrix)\n",
    "import matplotlib.pyplot as plt\n",
    "from sklearn.metrics import RocCurveDisplay, ConfusionMatrixDisplay\n",
    "\n",
    "import mlflow\n",
    "import mlflow.sklearn\n",
    "\n",
    "import os\n",
    "\n",
    "# Criar diretório mlruns se não existir\n",
    "if not os.path.exists(\"mlruns\"):\n",
    "    os.makedirs(\"mlruns\")"
   ]
  },
  {
   "cell_type": "code",
   "execution_count": null,
   "metadata": {},
   "outputs": [],
   "source": [
    "credito = pd.read_csv('Credit.csv')\n",
    "credito.shape"
   ]
  },
  {
   "cell_type": "code",
   "execution_count": null,
   "metadata": {},
   "outputs": [],
   "source": [
    "credito.head()"
   ]
  },
  {
   "cell_type": "code",
   "execution_count": null,
   "metadata": {},
   "outputs": [],
   "source": [
    "for col in credito.columns:\n",
    "    if credito[col].dtype == 'object':\n",
    "        credito[col] = credito[col].astype('category').cat.codes"
   ]
  },
  {
   "cell_type": "code",
   "execution_count": null,
   "metadata": {},
   "outputs": [],
   "source": [
    "credito.head()"
   ]
  },
  {
   "cell_type": "code",
   "execution_count": null,
   "metadata": {},
   "outputs": [],
   "source": [
    "previsores = credito.iloc[:,0:20].values\n",
    "classe = credito.iloc[:,20].values"
   ]
  },
  {
   "cell_type": "code",
   "execution_count": null,
   "metadata": {},
   "outputs": [],
   "source": [
    "previsores"
   ]
  },
  {
   "cell_type": "code",
   "execution_count": null,
   "metadata": {},
   "outputs": [],
   "source": [
    "X_treinamento, X_teste, y_treinamento, y_teste = train_test_split(previsores,classe,\n",
    "                                        test_size=0.3,random_state=123)"
   ]
  },
  {
   "cell_type": "code",
   "execution_count": null,
   "metadata": {},
   "outputs": [],
   "source": [
    "# Configurar o tracking URI para o diretório local\n",
    "mlflow.set_tracking_uri(\"file:./mlruns\")\n",
    "\n",
    "mlflow.set_experiment(\"nbexperimento\")\n",
    "\n",
    "with mlflow.start_run():\n",
    "    naive_bayes = GaussianNB()\n",
    "    naive_bayes.fit(X_treinamento, y_treinamento)\n",
    "    previsoes = naive_bayes.predict(X_teste)\n",
    "    \n",
    "    #métricas\n",
    "    acuracia = accuracy_score(y_teste, previsoes)\n",
    "    recall = recall_score(y_teste, previsoes)\n",
    "    precision = precision_score(y_teste, previsoes)\n",
    "    f1 = f1_score(y_teste, previsoes)\n",
    "    auc= roc_auc_score(y_teste, previsoes)\n",
    "    log_loss_value = log_loss(y_teste, previsoes)  # Renomeado para evitar conflito\n",
    "    \n",
    "    #registrar métricas\n",
    "    mlflow.log_metric(\"acuracia\",acuracia)\n",
    "    mlflow.log_metric(\"recall\",recall)\n",
    "    mlflow.log_metric(\"precision\",precision)\n",
    "    mlflow.log_metric(\"f1\",f1)\n",
    "    mlflow.log_metric(\"auc\",auc)\n",
    "    mlflow.log_metric(\"log_loss\",log_loss_value)\n",
    "    \n",
    "    #gráficos\n",
    "    cm = confusion_matrix(y_teste, previsoes)\n",
    "    disp = ConfusionMatrixDisplay(confusion_matrix=cm)\n",
    "    disp.plot()\n",
    "    plt.savefig(\"confusion.png\")\n",
    "    mlflow.log_artifact(\"confusion.png\")\n",
    "    plt.close()\n",
    "\n",
    "    roc = RocCurveDisplay.from_estimator(naive_bayes, X_teste, y_teste)\n",
    "    plt.savefig(\"roc.png\")\n",
    "    mlflow.log_artifact(\"roc.png\")\n",
    "    plt.close() \n",
    "    \n",
    "    #modelo\n",
    "    mlflow.sklearn.log_model(naive_bayes,\"ModeloNB\")\n",
    "    \n",
    "    #informações da execução\n",
    "    print(\"Modelo: \", mlflow.active_run().info.run_id)"
   ]
  },
  {
   "cell_type": "code",
   "execution_count": null,
   "metadata": {
    "vscode": {
     "languageId": "ruby"
    }
   },
   "outputs": [],
   "source": []
  },
  {
   "cell_type": "code",
   "execution_count": null,
   "metadata": {},
   "outputs": [],
   "source": []
  }
 ],
 "metadata": {
  "kernelspec": {
   "display_name": ".venv",
   "language": "python",
   "name": "python3"
  },
  "language_info": {
   "codemirror_mode": {
    "name": "ipython",
    "version": 3
   },
   "file_extension": ".py",
   "mimetype": "text/x-python",
   "name": "python",
   "nbconvert_exporter": "python",
   "pygments_lexer": "ipython3",
   "version": "3.11.4"
  }
 },
 "nbformat": 4,
 "nbformat_minor": 4
}
